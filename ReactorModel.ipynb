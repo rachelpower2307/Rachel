{
  "nbformat": 4,
  "nbformat_minor": 0,
  "metadata": {
    "colab": {
      "name": "ReactorModel.ipynb",
      "provenance": [],
      "collapsed_sections": [],
      "authorship_tag": "ABX9TyNfIjERIc1Zt1AogO1O4U9J",
      "include_colab_link": true
    },
    "kernelspec": {
      "name": "python3",
      "display_name": "Python 3"
    },
    "language_info": {
      "name": "python"
    }
  },
  "cells": [
    {
      "cell_type": "markdown",
      "metadata": {
        "id": "view-in-github",
        "colab_type": "text"
      },
      "source": [
        "<a href=\"https://colab.research.google.com/github/rachelpower2307/Rachel/blob/master/ReactorModel.ipynb\" target=\"_parent\"><img src=\"https://colab.research.google.com/assets/colab-badge.svg\" alt=\"Open In Colab\"/></a>"
      ]
    },
    {
      "cell_type": "markdown",
      "source": [
        "#Setup\n"
      ],
      "metadata": {
        "id": "7MyLBijp7LI5"
      }
    },
    {
      "cell_type": "code",
      "source": [
        "import numpy as np\n",
        "import matplotlib.pyplot as plt\n",
        "plt.style.use(\"seaborn-darkgrid\")\n",
        "from numpy.random import default_rng\n",
        "rng = default_rng()"
      ],
      "metadata": {
        "id": "wYsTm_197R04"
      },
      "execution_count": 2,
      "outputs": []
    },
    {
      "cell_type": "markdown",
      "source": [
        "#Sampling Initial Energy"
      ],
      "metadata": {
        "id": "4XjjMn8bGWMc"
      }
    },
    {
      "cell_type": "markdown",
      "source": [
        "### Task 1A - Derive the Cumulative Probability Finction and its Inverse"
      ],
      "metadata": {
        "id": "GzBKpmGYGwmI"
      }
    },
    {
      "cell_type": "code",
      "source": [
        "E_min, E_max = 0.001, 2.5\n",
        "\n",
        "def f(E, E_min=E_min, E_max=E_max):\n",
        "  assert E_min<=E<=E_max, f\"Invalid input {E} to F, expected in interval {E_min}...{E_max}\"\n",
        "\n",
        "  c = 0.5 / (np.sqrt(E_max)-np.sqrt(E_min))\n",
        "  return c / (np.sqrt(E))\n",
        "\n",
        "f = np.vectorize(f)\n",
        "\n",
        "def  F_inverse(U, E_min=E_min, E_max=E_max):\n",
        "  assert 0<=U<=1, f\"Invalid input {U} to F_inverse, expected in interval 0...1\"\n",
        "\n",
        "  c = 0.5 / (np.sqrt(E_max)-np.sqrt(E_min))\n",
        "\n",
        "  return (np.sqrt(E_min) + U / (2*c) )**2\n",
        "F_inverse = np.vectorize(F_inverse)"
      ],
      "metadata": {
        "id": "Nu5_jxrAGrXo"
      },
      "execution_count": 41,
      "outputs": []
    },
    {
      "cell_type": "code",
      "source": [
        "F(F_inverse(0.9))"
      ],
      "metadata": {
        "colab": {
          "base_uri": "https://localhost:8080/"
        },
        "id": "oSTVhqi0JH8_",
        "outputId": "3a6a0cea-d3d0-4fc7-f1ab-65ecb5d86659"
      },
      "execution_count": 42,
      "outputs": [
        {
          "output_type": "execute_result",
          "data": {
            "text/plain": [
              "array(0.9)"
            ]
          },
          "metadata": {},
          "execution_count": 42
        }
      ]
    },
    {
      "cell_type": "markdown",
      "source": [
        "### Task 1B - Derive the expected value and the variance of the CDF\n"
      ],
      "metadata": {
        "id": "XEEWyQ5PWAA5"
      }
    },
    {
      "cell_type": "code",
      "source": [
        "#^^^^^^"
      ],
      "metadata": {
        "id": "Q_dLN07bKB44"
      },
      "execution_count": 39,
      "outputs": []
    },
    {
      "cell_type": "markdown",
      "source": [
        "###Task 1C — Verify generated samples follows the required distribution"
      ],
      "metadata": {
        "id": "bCeq-X5uWQJf"
      }
    },
    {
      "cell_type": "code",
      "source": [
        "n = 10_000\n",
        "\n",
        "E_min = 0.001\n",
        "E_max = 2.5\n",
        "\n",
        "# observed frequency\n",
        "uValues = rng.uniform(size=n)\n",
        "EValues = F_inverse(uValues, E_min=E_min, E_max=E_max)\n",
        "\n",
        "# expected frequency\n",
        "xValues = x = np.linspace(E_min, E_max)\n",
        "fValues = f(x)"
      ],
      "metadata": {
        "id": "b7MLNOb7WRk1"
      },
      "execution_count": 47,
      "outputs": []
    },
    {
      "cell_type": "code",
      "source": [
        "plt.hist(EValues, bins=500, density=True, label='observed')\n",
        "plt.plot(xValues, fValues, label='expected')\n",
        "plt.legend()\n",
        "plt.title(\"Distribution of $E$, particle initial energy ($E_{min}=%s$, $E_{max}=%s$\" %(E_min, E_max))\n",
        "plt.xlabel(\"Energy, $E$, (MeV)\")\n",
        "plt.show()"
      ],
      "metadata": {
        "colab": {
          "base_uri": "https://localhost:8080/",
          "height": 297
        },
        "id": "tSkqeZpUfJGa",
        "outputId": "0b6ee667-be73-4748-88bb-d0f09b994b85"
      },
      "execution_count": 53,
      "outputs": [
        {
          "output_type": "display_data",
          "data": {
            "image/png": "[encoded data removed]",
            "text/plain": [
              "<Figure size 432x288 with 1 Axes>"
            ]
          },
          "metadata": {
            "needs_background": "light"
          }
        }
      ]
    },
    {
      "cell_type": "markdown",
      "source": [
        "### Task 1D — Verify that generated samples match expected mean and standard deviation"
      ],
      "metadata": {
        "id": "V_G4cwX1jfvK"
      }
    },
    {
      "cell_type": "code",
      "source": [
        " E_min, E_max = 0.001, 2.5\n",
        "\n",
        " c = 0.5 / (np.sqrt(E_max)-np.sqrt(E_min))\n",
        "\n",
        " exp_mean = 2/3 * c * (np.power(E_max, 3/2) - np.power(E_min, 3/2))\n",
        " exp_std = 0\n",
        "\n",
        "n = 10_000\n",
        "\n",
        "E_min = 0.001\n",
        "E_max = 2.5\n",
        "\n",
        "# observed frequency\n",
        "uValues = rng.uniform(size=n)\n",
        "EValues = F_inverse(uValues, E_min=E_min, E_max=E_max)\n",
        "\n",
        "obs_mean = EValues.mean()\n",
        "obs_std = EValues.std()\n",
        "\n",
        "print(f\"Observed mean = {obs_mean:.4f} and std = {obs_std:4f}\")\n",
        "print(f\"Expected mean = {exp_mean:.4f} and std = {exp_std:4f}\")"
      ],
      "metadata": {
        "colab": {
          "base_uri": "https://localhost:8080/"
        },
        "id": "2YMR9J-nhoCT",
        "outputId": "6fa72541-e0da-4ead-df84-081f2e14e6c2"
      },
      "execution_count": 57,
      "outputs": [
        {
          "output_type": "stream",
          "name": "stdout",
          "text": [
            "Observed mean = 0.8482973780265178 and std = 0.7445967659953391\n",
            "Expected mean = 0.8503333333333334 and std = 0\n"
          ]
        }
      ]
    },
    {
      "cell_type": "markdown",
      "source": [
        "# Generate Particles"
      ],
      "metadata": {
        "id": "lVPTMNKOmbbv"
      }
    },
    {
      "cell_type": "markdown",
      "source": [
        "### Task 2A — Using a class to simplify storing of particle data"
      ],
      "metadata": {
        "id": "haYTmG5ZmkfS"
      }
    },
    {
      "cell_type": "code",
      "source": [
        "class Particle():\n",
        "    pass\n",
        "\n",
        "  def __init__(self):\n",
        "    self.x = 0\n",
        "    self.y = 0\n",
        "   self.z = 0\n",
        "    self.mu = 0\n",
        "   self.azim = 0\n",
        "    self.energy = 1\n",
        "\n",
        "  def __repr__(self):\n",
        "     return (f\"Particle:\"\n",
        "      f\"   position = ({self.x:.3f},{self.y:.3f},{self.z:.3f})\"\n",
        "      f\"   mu = {self.mu:.3f} \"\n",
        "     f\"   azim = {self.azim:.3f} \"\n",
        "      f\"   energy = {self.energy:.5f} \")\n",
        "\n",
        "p = Particle()\n",
        "p.energy = 10\n",
        "\n",
        "p2 = Particle()\n",
        "p2.energy = 20\n",
        "\n",
        "print(p.energy)\n",
        "print(p2)"
      ],
      "metadata": {
        "colab": {
          "base_uri": "https://localhost:8080/",
          "height": 130
        },
        "id": "W89BXHXVk9LN",
        "outputId": "1ad73110-2c5c-44ee-9594-ec982cc8efe9"
      },
      "execution_count": 63,
      "outputs": [
        {
          "output_type": "error",
          "ename": "IndentationError",
          "evalue": "ignored",
          "traceback": [
            "\u001b[0;36m  File \u001b[0;32m\"<ipython-input-63-eeb904309e98>\"\u001b[0;36m, line \u001b[0;32m4\u001b[0m\n\u001b[0;31m    def __init__(self):\u001b[0m\n\u001b[0m                       ^\u001b[0m\n\u001b[0;31mIndentationError\u001b[0m\u001b[0;31m:\u001b[0m unindent does not match any outer indentation level\n"
          ]
        }
      ]
    },
    {
      "cell_type": "code",
      "source": [
        ""
      ],
      "metadata": {
        "id": "rQX89EvKnFuV"
      },
      "execution_count": null,
      "outputs": []
    }
  ]
}